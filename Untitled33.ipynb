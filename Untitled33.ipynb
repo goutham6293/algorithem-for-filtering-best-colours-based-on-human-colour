{
  "nbformat": 4,
  "nbformat_minor": 0,
  "metadata": {
    "colab": {
      "name": "Untitled33.ipynb",
      "provenance": [],
      "mount_file_id": "1e6_aysQgrA7yoC5pyeIIQM6lpz1Je5XD",
      "authorship_tag": "ABX9TyMfMx2mFuuQRhR3cz53bDQx",
      "include_colab_link": true
    },
    "kernelspec": {
      "name": "python3",
      "display_name": "Python 3"
    },
    "language_info": {
      "name": "python"
    }
  },
  "cells": [
    {
      "cell_type": "markdown",
      "metadata": {
        "id": "view-in-github",
        "colab_type": "text"
      },
      "source": [
        "<a href=\"https://colab.research.google.com/github/goutham6293/algorithem-for-filtering-best-colours-based-on-human-colour/blob/main/Untitled33.ipynb\" target=\"_parent\"><img src=\"https://colab.research.google.com/assets/colab-badge.svg\" alt=\"Open In Colab\"/></a>"
      ]
    },
    {
      "cell_type": "code",
      "execution_count": null,
      "metadata": {
        "id": "NX7nWgvzkcUv",
        "colab": {
          "base_uri": "https://localhost:8080/"
        },
        "outputId": "d8ddb282-0b09-4131-d244-f9926b881782"
      },
      "outputs": [
        {
          "output_type": "stream",
          "name": "stdout",
          "text": [
            "https://www.moneycontrol.com/financials/AP/results/quarterly-results/IT/1#IT\n",
            "https://www.moneycontrol.com/financials/AP/results/quarterly-results/IT/2#IT\n",
            "https://www.moneycontrol.com/financials/AP/results/quarterly-results/IT/3#IT\n",
            "https://www.moneycontrol.com/financials/AP/results/quarterly-results/IT/4#IT\n",
            "https://www.moneycontrol.com/financials/AP/results/quarterly-results/IT/5#IT\n",
            "https://www.moneycontrol.com/financials/AP/results/quarterly-results/IT/6#IT\n",
            "https://www.moneycontrol.com/financials/AP/results/quarterly-results/IT/7#IT\n",
            "https://www.moneycontrol.com/financials/AP/results/quarterly-results/IT/8#IT\n",
            "https://www.moneycontrol.com/financials/AP/results/quarterly-results/IT/9#IT\n",
            "https://www.moneycontrol.com/financials/AP/results/quarterly-results/IT/10#IT\n",
            "https://www.moneycontrol.com/financials/AP/results/quarterly-results/IT/11#IT\n",
            "https://www.moneycontrol.com/financials/AP/results/quarterly-results/IT/12#IT\n",
            "https://www.moneycontrol.com/financials/AP/results/quarterly-results/IT/13#IT\n",
            "https://www.moneycontrol.com/financials/AP/results/quarterly-results/IT/14#IT\n",
            "https://www.moneycontrol.com/financials/AP/results/quarterly-results/IT/15#IT\n",
            "https://www.moneycontrol.com/financials/AP/results/quarterly-results/IT/16#IT\n",
            "https://www.moneycontrol.com/financials/AP/results/quarterly-results/IT/17#IT\n",
            "https://www.moneycontrol.com/financials/AP/results/quarterly-results/IT/18#IT\n",
            "--- 53.780115842819214 seconds ---\n"
          ]
        }
      ],
      "source": [
        "#script  for scraping the monecotrol website \n",
        "from pandas.io.formats.format import DataFrameFormatter\n",
        "import requests\n",
        "\n",
        "import pandas as pd\n",
        "import time\n",
        "start_time = time.time()\n",
        "#delt=pd.read_csv(\"Book2.csv\")\n",
        "data=pd.DataFrame()\n",
        "symbol=\"AP\"## place to insert the symbol\n",
        "key=\"IT\"\n",
        "t=time.time()\n",
        "for k in range(1,19):\n",
        " url = 'https://www.moneycontrol.com/financials/{}/results/quarterly-results/{}/{}#{}'.format(symbol,key,k,key)\n",
        " print(url)\n",
        " html = requests.get(url).content\n",
        " df_list = pd.read_html(html)\n",
        " df = df_list[-1]\n",
        "\n",
        " if k>1:\n",
        "  df=df.drop([df.columns[0],df.columns[6]],axis=1)\n",
        "  data=pd.concat([data,df], axis=1)\n",
        "  \n",
        " if k==1:\n",
        "   data=df\n",
        "data=data.drop([2,6,7,8,11,12,13,14,15,26,27,30,31,39,40,43,44,45,47,48,49,41,42,46,35,32,22],axis=0)\n",
        "data.to_csv('my data.csv')\n",
        " \n",
        "print(\"--- %s seconds ---\" % (time.time() - start_time))\n",
        "# html = requests.get(url).content\n",
        "# df_list = pd.read_html(html)\n",
        "# df = df_list[-1]\n",
        "# print(df)\n",
        "# df.to_csv('my data.csv')"
      ]
    },
    {
      "cell_type": "code",
      "source": [
        "delt=pd.read_csv(\"Book2.csv\")\n",
        "print(delt)\n",
        "print(delt.columns[0])\n",
        "\n",
        "array=[]\n",
        "array=delt[delt.columns[0]]\n",
        "type(array)\n"
      ],
      "metadata": {
        "id": "NHlplcCaxeVU"
      },
      "execution_count": null,
      "outputs": []
    },
    {
      "cell_type": "code",
      "source": [
        "from joblib import Parallel, delayed\n",
        "import numpy as np\n",
        "import time\n",
        "\n",
        "def f(wait):\n",
        "    time.sleep(wait)\n",
        "    return wait\n",
        "\n",
        "n = 50\n",
        "waits = np.random.uniform(low=0, high=1, size=n)\n",
        "res = Parallel(n_jobs=8, backend='multiprocessing')(delayed(f)(wait) for wait in waits)\n",
        "np.all(res == waits)"
      ],
      "metadata": {
        "colab": {
          "base_uri": "https://localhost:8080/"
        },
        "id": "XVSZlgXUUPIA",
        "outputId": "4b1815bd-0ab0-47f2-a1ee-251cc9cc5331"
      },
      "execution_count": null,
      "outputs": [
        {
          "output_type": "execute_result",
          "data": {
            "text/plain": [
              "True"
            ]
          },
          "metadata": {},
          "execution_count": 64
        }
      ]
    },
    {
      "cell_type": "code",
      "source": [
        "from multiprocessing import Pool\n",
        "import pandas as pd\n",
        "delt=pd.read_csv(\"Book2.csv\")\n",
        "data=pd.DataFrame()\n",
        "symbol=\"TCS\"## place to insert the symbol\n",
        "key=\"TCS\"\n",
        "for k in range(1,10):\n",
        " url = 'https://www.moneycontrol.com/financials/{}/results/quarterly-results/{}/{}#{}'.format(symbol,key,k,key)\n",
        " print(url)\n",
        " html = requests.get(url).content\n",
        " df_list = pd.read_html(html)\n",
        " df = df_list[-1]\n"
      ],
      "metadata": {
        "id": "g6YuUbbfVtpk"
      },
      "execution_count": null,
      "outputs": []
    },
    {
      "cell_type": "code",
      "source": [
        "ka=[]\n",
        "symbol=\"RI\"## place to insert the symbol\n",
        "key=\"RI\"\n",
        "for k in range(1,):\n",
        "  ka.append('https://www.moneycontrol.com/financials/{}/results/quarterly-results/{}/{}#{}'.format(symbol,key,k,key))\n",
        "\n",
        "\n"
      ],
      "metadata": {
        "id": "51XhlGAxWqsA"
      },
      "execution_count": null,
      "outputs": []
    },
    {
      "cell_type": "code",
      "source": [
        ""
      ],
      "metadata": {
        "id": "QJlMvCXUzZiR"
      },
      "execution_count": null,
      "outputs": []
    },
    {
      "cell_type": "code",
      "source": [
        "from os import error\n",
        "from multiprocessing import Pool\n",
        "import numpy as np\n",
        "import time\n",
        "import random\n",
        "from pandas.io.formats.format import DataFrameFormatter\n",
        "import requests\n",
        "import pandas as pd\n",
        "import os\n",
        "start_time = time.time()\n",
        "data=pd.DataFrame()\n",
        "rows = 16\n",
        "columns = 100\n",
        "ka=[]\n",
        "symbol=\"BOB\"##  insert the symbol\n",
        "for k in range(1,24):\n",
        "  ka.append('https://www.moneycontrol.com/financials/{}/results/quarterly-results/{}/{}#{}'.format(symbol,symbol,k,symbol))\n",
        "\n",
        "\n",
        "vals = np.arange(rows * columns, dtype=np.int32).reshape(rows, columns)\n",
        "\n",
        "def worker(url):\n",
        "  try:\n",
        "    html = requests.get(url).content\n",
        "    df_list = pd.read_html(html)\n",
        "    df = df_list[-1]\n",
        "  except BaseException:\n",
        "    return pd.DataFrame();\n",
        "  return df;\n",
        "with Pool(25) as p:\n",
        "    # schedule one map/worker for each row in the original data\n",
        "    q = p.map(worker, [row for row in ka])\n",
        "\n",
        "for k, df in enumerate(q):\n",
        "    if df.empty or df.shape[1]<7:\n",
        "       break;\n",
        "    if k>1:\n",
        "     df=df.drop([df.columns[0],df.columns[6]],axis=1)\n",
        "     data=pd.concat([data,df], axis=1)\n",
        "     \n",
        "  \n",
        "    if k==1:\n",
        "     data=df\n",
        "data.to_csv(\"test_data.csv\")\n",
        "# data.columns=data.iloc[0]\n",
        "data=data.drop([2,6,7,8,11,12,13,14,15,26,27,30,31,39,40,43,44,45,47,48,49,41,42,46,35,32,22],axis=0)\n",
        "if os.path.exists(\"/content/drive/MyDrive/my_data.xlsx\"):\n",
        " os.remove(\"/content/drive/MyDrive/my_data.xlsx\")\n",
        "data.to_excel('/content/drive/MyDrive/my_data.xlsx')\n",
        "print(\"--- %s seconds ---\" % (time.time() - start_time))\n",
        "    "
      ],
      "metadata": {
        "colab": {
          "base_uri": "https://localhost:8080/"
        },
        "id": "8q8fiZv4Wqx-",
        "outputId": "bb7e065a-8847-40c2-8a74-aa49dd3a9575"
      },
      "execution_count": null,
      "outputs": [
        {
          "output_type": "stream",
          "name": "stdout",
          "text": [
            "--- 9.766136884689331 seconds ---\n"
          ]
        }
      ]
    },
    {
      "cell_type": "code",
      "source": [
        "type(data.iloc[0])"
      ],
      "metadata": {
        "colab": {
          "base_uri": "https://localhost:8080/"
        },
        "id": "FWRyqBApeft7",
        "outputId": "e0768a95-db6f-404b-e64a-47aeeb9c2677"
      },
      "execution_count": null,
      "outputs": [
        {
          "output_type": "execute_result",
          "data": {
            "text/plain": [
              "pandas.core.series.Series"
            ]
          },
          "metadata": {},
          "execution_count": 15
        }
      ]
    },
    {
      "cell_type": "code",
      "source": [
        "from pandas import errors\n",
        "url=\"https://www.moneycontrol.com/financials/3mindia/results/quarterly-results/MI42/10#MI42\"\n",
        "import requests\n",
        "\n",
        "import pandas as pd\n",
        "\n",
        "html = requests.get(url).content\n",
        "df_list = pd.read_html(html)\n",
        "df = df_list[-1]\n",
        "dummy=np.zeros((50,7),dtype=int)\n",
        "dummy1=np.zeros((50,7),dtype=int)\n",
        "dummy.co\n",
        "pd.DataFrame(dummy)\n",
        "print(dummy)\n",
        "\n",
        "\n",
        "\n",
        "# start_time = time.time()\n",
        "\n",
        "# data=pd.DataFrame()\n",
        "# symbol=\"RI\"## place to insert the symbol\n",
        "# key=\"RI\"\n",
        "# t=time.time()\n",
        "# for k in range(1,19):\n",
        "#  url = 'https://www.moneycontrol.com/financials/{}/results/quarterly-results/{}/{}#{}'.format(symbol,key,k,key)\n",
        "#  print(url)\n",
        "#  html = requests.get(url).content\n",
        "#  df_list = pd.read_html(html)\n",
        "#  df = df_list[-1]\n",
        "\n",
        "#  if k>1:\n",
        "#   df=df.drop([df.columns[0],df.columns[6]],axis=1)\n",
        "#   data=pd.concat([data,df], axis=1)\n",
        "  \n",
        "#  if k==1:\n",
        "#    data=df\n",
        "# data=data.drop([2,6,7,8,11,12,13,14,15,26,27,30,31,39,40,43,44,45,47,48,49,41,42,46,35,32,22],axis=0)\n",
        "# data.to_csv('my data.csv')\n",
        " "
      ],
      "metadata": {
        "id": "xa9Jy1rvYnP2"
      },
      "execution_count": null,
      "outputs": []
    },
    {
      "cell_type": "code",
      "source": [
        "from pandas.core.construction import is_empty_data\n",
        "\n",
        "def ann():\n",
        "  return pd.DataFrame()\n",
        "a=ann()\n",
        "print(a.shape)\n",
        "\n"
      ],
      "metadata": {
        "colab": {
          "base_uri": "https://localhost:8080/"
        },
        "id": "YfD0XY0eomXM",
        "outputId": "560559a6-0ef2-4f50-a969-7bfd37610d2d"
      },
      "execution_count": null,
      "outputs": [
        {
          "output_type": "stream",
          "name": "stdout",
          "text": [
            "(0, 0)\n"
          ]
        }
      ]
    },
    {
      "cell_type": "code",
      "source": [
        "####### version 4 ############\n",
        "from os import error\n",
        "from multiprocessing import Pool\n",
        "import numpy as np\n",
        "import time\n",
        "import random\n",
        "from pandas.io.formats.format import DataFrameFormatter\n",
        "import requests\n",
        "import pandas as pd\n",
        "import os\n",
        "start_time = time.time()\n",
        "data=pd.DataFrame()\n",
        "rows = 16\n",
        "columns = 100\n",
        "ka=[]\n",
        "symbol=\"TPC\"##  insert the symbol\n",
        "for k in range(24):\n",
        "  ka.append('https://www.moneycontrol.com/financials/{}/results/quarterly-results/{}/{}#{}'.format(symbol,symbol,k,symbol))\n",
        "\n",
        "\n",
        "vals = np.arange(rows * columns, dtype=np.int32).reshape(rows, columns)\n",
        "\n",
        "def worker(url):\n",
        "  try:\n",
        "    try:\n",
        "     html = requests.get(url).content\n",
        "    except BaseException:\n",
        "      print(\"invalid company name\")\n",
        "    df_list = pd.read_html(html)\n",
        "    df = df_list[-1]\n",
        "  except BaseException:\n",
        "    return pd.DataFrame(np.zeros((50,7),dtype=int));\n",
        "  return df;\n",
        "with Pool(25) as p:\n",
        "    # schedule one map/worker for each row in the original data\n",
        "    q = p.map(worker, [row for row in ka])\n",
        "\n",
        "for k, df in enumerate(q):\n",
        "    if df.empty or df.shape[1]<7:\n",
        "       break;\n",
        "    if k>1:\n",
        "     df=df.drop([df.columns[0],df.columns[6]],axis=1)\n",
        "     data=pd.concat([data,df], axis=1)\n",
        "     \n",
        "  \n",
        "    if k==1:\n",
        "     df=df.drop([df.columns[6]],axis=1)\n",
        "     data=df\n",
        "\n",
        "# data.columns=data.iloc[0]\n",
        "data=data.drop([2,6,7,8,11,12,13,14,15,26,27,30,31,39,40,43,44,45,47,48,49,41,42,46,35,32,22],axis=0)\n",
        "if os.path.exists(\"/content/drive/MyDrive/my_data.xlsx\"):\n",
        " os.remove(\"/content/drive/MyDrive/my_data.xlsx\")\n",
        "data.to_excel('/content/drive/MyDrive/my_data.xlsx')\n",
        "print(\"--- %s seconds ---\" % (time.time() - start_time))\n",
        "\n"
      ],
      "metadata": {
        "colab": {
          "base_uri": "https://localhost:8080/"
        },
        "id": "xRRte_HxwunQ",
        "outputId": "2e14bf0b-6fad-43c1-fee8-ba3630435af4"
      },
      "execution_count": null,
      "outputs": [
        {
          "output_type": "stream",
          "name": "stdout",
          "text": [
            "--- 7.897342205047607 seconds ---\n"
          ]
        }
      ]
    },
    {
      "cell_type": "code",
      "source": [
        "####### version 5 ############\n",
        "from os import error\n",
        "from multiprocessing import Pool\n",
        "import numpy as np\n",
        "import time\n",
        "import random\n",
        "from pandas.io.formats.format import DataFrameFormatter\n",
        "import requests\n",
        "import pandas as pd\n",
        "import os\n",
        "start_time = time.time()\n",
        "data=pd.DataFrame()\n",
        "rows = 16\n",
        "columns = 100\n",
        "ka=[]\n",
        "symbol=\"TPC\"##  insert the symbol\n",
        "for k in range(24):\n",
        "  ka.append('https://www.moneycontrol.com/financials/{}/results/quarterly-results/{}/{}#{}'.format(symbol,symbol,k,symbol))\n",
        "\n",
        "\n",
        "vals = np.arange(rows * columns, dtype=np.int32).reshape(rows, columns)\n",
        "\n",
        "def worker(url):\n",
        "  try:\n",
        "    html = requests.get(url).content\n",
        "    df_list = pd.read_html(html)\n",
        "    df = df_list[-1]\n",
        "  except BaseException:\n",
        "    return pd.DataFrame(np.zeros((50,7),dtype=int));\n",
        "  return df;\n",
        "with Pool(25) as p:\n",
        "    # schedule one map/worker for each row in the original data\n",
        "    q = p.map(worker, [row for row in ka])\n",
        "\n",
        "for k, df in enumerate(q):\n",
        "    if df.empty or df.shape[1]<7:\n",
        "       break;\n",
        "    if k>1:\n",
        "     df=df.drop([df.columns[0],df.columns[6]],axis=1)\n",
        "     data=pd.concat([data,df], axis=1)\n",
        "     \n",
        "  \n",
        "    if k==1:\n",
        "     df=df.drop([df.columns[6]],axis=1)\n",
        "     data=df\n",
        "data.to_csv(\"test_data.csv\")\n",
        "# data.columns=data.iloc[0]\n",
        "data=data.drop([2,6,7,8,11,12,13,14,15,26,27,30,31,39,40,43,44,45,47,48,49,41,42,46,35,32,22],axis=0)\n",
        "\n",
        "data1.to_excel('/content/drive/MyDrive/test_data.xlsx')\n",
        "# if os.path.exists(\"/content/drive/MyDrive/my_data.xlsx\"):\n",
        "#  os.remove(\"/content/drive/MyDrive/my_data.xlsx\")\n",
        "# data.to_excel('/content/drive/MyDrive/my_data.xlsx')\n",
        "# print(\"--- %s seconds ---\" % (time.time() - start_time))"
      ],
      "metadata": {
        "id": "bWdlP9623LKL"
      },
      "execution_count": null,
      "outputs": []
    },
    {
      "cell_type": "code",
      "source": [
        "\n",
        "\n",
        "\n",
        "\n"
      ],
      "metadata": {
        "colab": {
          "base_uri": "https://localhost:8080/"
        },
        "id": "UjHttgnMez1P",
        "outputId": "d9ee91bd-8972-4ab1-e88d-452975e84fdc"
      },
      "execution_count": null,
      "outputs": [
        {
          "output_type": "stream",
          "name": "stdout",
          "text": [
            "Collecting flask_sqlalchemy\n",
            "  Downloading Flask_SQLAlchemy-2.5.1-py2.py3-none-any.whl (17 kB)\n",
            "Requirement already satisfied: Flask>=0.10 in /usr/local/lib/python3.7/dist-packages (from flask_sqlalchemy) (1.1.4)\n",
            "Requirement already satisfied: SQLAlchemy>=0.8.0 in /usr/local/lib/python3.7/dist-packages (from flask_sqlalchemy) (1.4.31)\n",
            "Requirement already satisfied: itsdangerous<2.0,>=0.24 in /usr/local/lib/python3.7/dist-packages (from Flask>=0.10->flask_sqlalchemy) (1.1.0)\n",
            "Requirement already satisfied: Jinja2<3.0,>=2.10.1 in /usr/local/lib/python3.7/dist-packages (from Flask>=0.10->flask_sqlalchemy) (2.11.3)\n",
            "Requirement already satisfied: click<8.0,>=5.1 in /usr/local/lib/python3.7/dist-packages (from Flask>=0.10->flask_sqlalchemy) (7.1.2)\n",
            "Requirement already satisfied: Werkzeug<2.0,>=0.15 in /usr/local/lib/python3.7/dist-packages (from Flask>=0.10->flask_sqlalchemy) (1.0.1)\n",
            "Requirement already satisfied: MarkupSafe>=0.23 in /usr/local/lib/python3.7/dist-packages (from Jinja2<3.0,>=2.10.1->Flask>=0.10->flask_sqlalchemy) (2.0.1)\n",
            "Requirement already satisfied: importlib-metadata in /usr/local/lib/python3.7/dist-packages (from SQLAlchemy>=0.8.0->flask_sqlalchemy) (4.10.1)\n",
            "Requirement already satisfied: greenlet!=0.4.17 in /usr/local/lib/python3.7/dist-packages (from SQLAlchemy>=0.8.0->flask_sqlalchemy) (1.1.2)\n",
            "Requirement already satisfied: typing-extensions>=3.6.4 in /usr/local/lib/python3.7/dist-packages (from importlib-metadata->SQLAlchemy>=0.8.0->flask_sqlalchemy) (3.10.0.2)\n",
            "Requirement already satisfied: zipp>=0.5 in /usr/local/lib/python3.7/dist-packages (from importlib-metadata->SQLAlchemy>=0.8.0->flask_sqlalchemy) (3.7.0)\n",
            "Installing collected packages: flask-sqlalchemy\n",
            "Successfully installed flask-sqlalchemy-2.5.1\n"
          ]
        }
      ]
    },
    {
      "cell_type": "code",
      "source": [
        "! export FLASK_APP=/content/app\n",
        "!flask run\n",
        "! Running on http://127.0.0.1:5000/"
      ],
      "metadata": {
        "colab": {
          "base_uri": "https://localhost:8080/"
        },
        "id": "DZP4-9tDywMA",
        "outputId": "9b641d09-ad05-46c9-e174-bc96699759a3"
      },
      "execution_count": null,
      "outputs": [
        {
          "output_type": "stream",
          "name": "stdout",
          "text": [
            " * Environment: production\n",
            "\u001b[31m   WARNING: This is a development server. Do not use it in a production deployment.\u001b[0m\n",
            "\u001b[2m   Use a production WSGI server instead.\u001b[0m\n",
            " * Debug mode: off\n",
            " * Running on http://127.0.0.1:5000/ (Press CTRL+C to quit)\n",
            "/bin/bash: Running: command not found\n"
          ]
        }
      ]
    },
    {
      "cell_type": "code",
      "source": [
        "from flask import Flask, render_template, url_for, request, redirect\n",
        "from flask_sqlalchemy import SQLAlchemy\n",
        "from datetime import datetime\n",
        "app = Flask(__name__)\n",
        "@app.route('/')\n",
        "def index():\n",
        "    return 'Hello World'"
      ],
      "metadata": {
        "id": "aQbuo-vF3Z_l"
      },
      "execution_count": null,
      "outputs": []
    },
    {
      "cell_type": "code",
      "source": [
        "import argparse\n",
        "\n",
        "parser = argparse.ArgumentParser(description='Script so useful.')\n",
        "parser.add_argument(\"--opt1\", type=int, default=1)\n",
        "parser.add_argument(\"--opt2\")\n",
        "\n",
        "args = parser.parse_args()\n",
        "\n",
        "opt1_value = args.opt1\n",
        "opt2_value = args.opt2"
      ],
      "metadata": {
        "id": "d0G5LcwLgiSj"
      },
      "execution_count": null,
      "outputs": []
    },
    {
      "cell_type": "code",
      "source": [
        "from os import error\n",
        "from multiprocessing import Pool\n",
        "import numpy as np\n",
        "import time\n",
        "\n",
        "import random\n",
        "from pandas.io.formats.format import DataFrameFormatter\n",
        "import requests\n",
        "import pandas as pd\n",
        "import sys\n",
        "import os\n",
        "import argparse\n",
        "\n",
        "start_time = time.time()\n",
        "data = pd.DataFrame()\n",
        "ka = []\n",
        "\n",
        " ##  insert the symbol\n",
        "\n",
        "def cal(symbol):\n",
        "\n",
        " for k in range(24):\n",
        "    ka.append('https://www.moneycontrol.com/financials/{}/results/quarterly-results/{}/{}#{}'.format(symbol, symbol, k,\n",
        "                                                                                                     symbol))\n",
        "if __name__ == \"__main__\":\n",
        " start_time = time.time()\n",
        " data = pd.DataFrame()\n",
        " ka = []\n",
        " parser = argparse.ArgumentParser(description='Create a ArcHydro schema')\n",
        " parser.add_argument('--symbol', action=\"store\", required=True)\n",
        " args = parser.parse_args()\n",
        " sym=args.symbol\n",
        " cal(sym)\n",
        " print(sym)\n",
        "\n",
        "\n",
        "\n",
        "\n",
        "\n",
        "def worker(url):\n",
        "    try:\n",
        "        try:\n",
        "            html = requests.get(url).content\n",
        "        except BaseException:\n",
        "            print(\"invalid company name\")\n",
        "        df_list = pd.read_html(html)\n",
        "        df = df_list[-1]\n",
        "    except BaseException:\n",
        "        return pd.DataFrame(np.zeros((50, 7), dtype=int));\n",
        "    return df;\n",
        "\n",
        "\n",
        "if __name__ == \"__main__\":\n",
        "    with Pool(8) as p:\n",
        "        # schedule one map/worker for each row in the original data\n",
        "        q = p.map(worker, [row for row in ka])\n",
        "\n",
        "    for k, df in enumerate(q):\n",
        "        if df.empty or df.shape[1] < 7:\n",
        "            break;\n",
        "        if k > 1:\n",
        "            df = df.drop([df.columns[0], df.columns[6]], axis=1)\n",
        "            data = pd.concat([data, df], axis=1)\n",
        "\n",
        "        if k == 1:\n",
        "            df = df.drop([df.columns[6]], axis=1)\n",
        "            data = df\n",
        "\n",
        "# data.columns=data.iloc[0]\n",
        "if __name__ == \"__main__\":\n",
        "    data = data.drop(\n",
        "        [2, 6, 7, 8, 11, 12, 13, 14, 15, 26, 27, 30, 31, 39, 40, 43, 44, 45, 47, 48, 49, 41, 42, 46, 35, 32, 22],\n",
        "        axis=0)\n",
        "    data.to_csv('my_data.csv')"
      ],
      "metadata": {
        "id": "mu7toAkgpQg2"
      },
      "execution_count": null,
      "outputs": []
    },
    {
      "cell_type": "code",
      "source": [
        "a=[]\n",
        "a.append(1)"
      ],
      "metadata": {
        "id": "g7BF2Xpx0D72"
      },
      "execution_count": null,
      "outputs": []
    },
    {
      "cell_type": "code",
      "source": [
        ""
      ],
      "metadata": {
        "id": "GyYtNAGXah_l",
        "colab": {
          "base_uri": "https://localhost:8080/",
          "height": 130
        },
        "outputId": "30e70dac-2c11-4869-ab91-7ab34a97e44a"
      },
      "execution_count": null,
      "outputs": [
        {
          "output_type": "error",
          "ename": "SyntaxError",
          "evalue": "ignored",
          "traceback": [
            "\u001b[0;36m  File \u001b[0;32m\"<ipython-input-5-51a699ee3147>\"\u001b[0;36m, line \u001b[0;32m1\u001b[0m\n\u001b[0;31m    from pandas as pd\u001b[0m\n\u001b[0m                 ^\u001b[0m\n\u001b[0;31mSyntaxError\u001b[0m\u001b[0;31m:\u001b[0m invalid syntax\n"
          ]
        }
      ]
    },
    {
      "cell_type": "code",
      "source": [
        "import matplotlib.pyplot as plt"
      ],
      "metadata": {
        "id": "TDUZ8DUld_Ah"
      },
      "execution_count": null,
      "outputs": []
    },
    {
      "cell_type": "code",
      "source": [
        "pl=plt.gca()\n",
        "pl.scatter?"
      ],
      "metadata": {
        "colab": {
          "base_uri": "https://localhost:8080/",
          "height": 269
        },
        "id": "Q0idVtOIjHuT",
        "outputId": "ea684726-947a-4ff3-8371-c85a8d73e956"
      },
      "execution_count": null,
      "outputs": [
        {
          "output_type": "display_data",
          "data": {
            "image/png": "[encoded data removed]",
            "text/plain": [
              "<Figure size 432x288 with 1 Axes>"
            ]
          },
          "metadata": {
            "needs_background": "light"
          }
        }
      ]
    }
  ]
}